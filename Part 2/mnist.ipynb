{
 "cells": [
  {
   "cell_type": "code",
   "execution_count": 35,
   "metadata": {},
   "outputs": [],
   "source": [
    "import numpy as np\n",
    "import pandas as pd\n",
    "%matplotlib inline\n",
    "import matplotlib as mpl\n",
    "import matplotlib.pyplot as plt"
   ]
  },
  {
   "cell_type": "code",
   "execution_count": 36,
   "metadata": {},
   "outputs": [],
   "source": [
    "import tensorflow as tf\n",
    "from tensorflow import keras"
   ]
  },
  {
   "cell_type": "code",
   "execution_count": 37,
   "metadata": {},
   "outputs": [],
   "source": [
    "# load dataset\n",
    "\n",
    "mnist = keras.datasets.mnist\n",
    "(x_train, y_train), (x_test, y_test) = mnist.load_data()"
   ]
  },
  {
   "cell_type": "code",
   "execution_count": 38,
   "metadata": {},
   "outputs": [
    {
     "name": "stdout",
     "output_type": "stream",
     "text": [
      "Train: X=(60000, 28, 28), y=(60000,)\n",
      "Test: X=(10000, 28, 28), y=(10000,)\n"
     ]
    }
   ],
   "source": [
    "# summarize loaded dataset\n",
    "\n",
    "print('Train: X=%s, y=%s' % (x_train.shape, y_train.shape))\n",
    "print('Test: X=%s, y=%s' % (x_test.shape, y_test.shape))"
   ]
  },
  {
   "cell_type": "code",
   "execution_count": 39,
   "metadata": {},
   "outputs": [
    {
     "data": {
      "image/png": "[encoded data removed]",
      "text/plain": [
       "<Figure size 432x288 with 9 Axes>"
      ]
     },
     "metadata": {
      "needs_background": "light"
     },
     "output_type": "display_data"
    }
   ],
   "source": [
    "# plot first few images\n",
    "\n",
    "for i in range(9):\n",
    "    plt.subplot(330 + 1 + i)\n",
    "    plt.imshow(x_train[i], cmap=plt.get_cmap('gray'))\n",
    "plt.show()"
   ]
  },
  {
   "cell_type": "code",
   "execution_count": 40,
   "metadata": {},
   "outputs": [],
   "source": [
    "# Data reshape\n",
    "\n",
    "x_train = x_train.reshape((60000, 28, 28, 1))\n",
    "x_test = x_test.reshape((10000, 28, 28, 1))"
   ]
  },
  {
   "cell_type": "code",
   "execution_count": 41,
   "metadata": {},
   "outputs": [],
   "source": [
    "# Data Normalization\n",
    "\n",
    "x_train_n = x_train / 255.\n",
    "x_test_n = x_test / 255."
   ]
  },
  {
   "cell_type": "code",
   "execution_count": 42,
   "metadata": {},
   "outputs": [],
   "source": [
    "# Split data into train/validation/test datasets\n",
    "\n",
    "x_valid, x_train = x_train_n[:5000], x_train_n[5000:]\n",
    "y_valid, y_train = y_train[:5000], y_train[5000:]\n",
    "x_test = x_test_n"
   ]
  },
  {
   "cell_type": "markdown",
   "metadata": {},
   "source": [
    "### Creating Model Architecture"
   ]
  },
  {
   "cell_type": "code",
   "execution_count": 43,
   "metadata": {},
   "outputs": [],
   "source": [
    "np.random.seed(42)\n",
    "tf.random.set_seed(42)"
   ]
  },
  {
   "cell_type": "markdown",
   "metadata": {},
   "source": [
    "### Architecture"
   ]
  },
  {
   "cell_type": "code",
   "execution_count": 44,
   "metadata": {},
   "outputs": [],
   "source": [
    "from tensorflow.keras import layers\n",
    "from tensorflow.keras import models"
   ]
  },
  {
   "cell_type": "code",
   "execution_count": 45,
   "metadata": {},
   "outputs": [],
   "source": [
    "model = models.Sequential()\n",
    "\n",
    "model.add(layers.Conv2D(32, (3, 3), activation = 'relu',\n",
    "                       input_shape = (28, 28, 1)))\n",
    "model.add(layers.MaxPooling2D(2, 2))\n",
    "\n",
    "model.add(layers.Conv2D(64, (3, 3), activation = 'relu'))\n",
    "model.add(layers.MaxPooling2D(2, 2))\n",
    "\n",
    "model.add(layers.Conv2D(128, (3, 3), activation = 'relu'))\n",
    "model.add(layers.MaxPooling2D(2 ,2))\n",
    "\n",
    "model.add(layers.Flatten())\n",
    "\n",
    "model.add(layers.Dense(256, activation = 'relu'))\n",
    "\n",
    "model.add(layers.Dense(10, activation = 'softmax'))\n",
    "\n",
    "\n",
    "# Here, we are reshaping the image to (28, 28)\n",
    "# But after MaxPooling with (2, 2) window, they will be reduced to (14, 14).\n",
    "# With the next MaxPooling layer, the images will be reduced to\n",
    "# (7, 7) by using (2, 2) window and so on..\n",
    "\n",
    "# This is a standard practice, the image size should decrease with each Conv\n",
    "# layer and the feature map height should increase as we go along the network."
   ]
  },
  {
   "cell_type": "code",
   "execution_count": 46,
   "metadata": {},
   "outputs": [
    {
     "name": "stdout",
     "output_type": "stream",
     "text": [
      "Model: \"sequential\"\n",
      "_________________________________________________________________\n",
      "Layer (type)                 Output Shape              Param #   \n",
      "=================================================================\n",
      "conv2d (Conv2D)              (None, 26, 26, 32)        320       \n",
      "_________________________________________________________________\n",
      "max_pooling2d (MaxPooling2D) (None, 13, 13, 32)        0         \n",
      "_________________________________________________________________\n",
      "conv2d_1 (Conv2D)            (None, 11, 11, 64)        18496     \n",
      "_________________________________________________________________\n",
      "max_pooling2d_1 (MaxPooling2 (None, 5, 5, 64)          0         \n",
      "_________________________________________________________________\n",
      "conv2d_2 (Conv2D)            (None, 3, 3, 128)         73856     \n",
      "_________________________________________________________________\n",
      "max_pooling2d_2 (MaxPooling2 (None, 1, 1, 128)         0         \n",
      "_________________________________________________________________\n",
      "flatten (Flatten)            (None, 128)               0         \n",
      "_________________________________________________________________\n",
      "dense (Dense)                (None, 256)               33024     \n",
      "_________________________________________________________________\n",
      "dense_1 (Dense)              (None, 10)                2570      \n",
      "=================================================================\n",
      "Total params: 128,266\n",
      "Trainable params: 128,266\n",
      "Non-trainable params: 0\n",
      "_________________________________________________________________\n"
     ]
    }
   ],
   "source": [
    "model.summary()"
   ]
  },
  {
   "cell_type": "code",
   "execution_count": 47,
   "metadata": {},
   "outputs": [
    {
     "data": {
      "image/png": "[encoded data removed]",
      "text/plain": [
       "<IPython.core.display.Image object>"
      ]
     },
     "execution_count": 47,
     "metadata": {},
     "output_type": "execute_result"
    }
   ],
   "source": [
    "import pydot\n",
    "keras.utils.plot_model(model)"
   ]
  },
  {
   "cell_type": "code",
   "execution_count": 48,
   "metadata": {},
   "outputs": [],
   "source": [
    "# Next step is to compile the model"
   ]
  },
  {
   "cell_type": "code",
   "execution_count": 49,
   "metadata": {},
   "outputs": [],
   "source": [
    "from tensorflow.keras import optimizers\n",
    "\n",
    "model.compile(loss = 'sparse_categorical_crossentropy',\n",
    "             optimizer = optimizers.RMSprop(lr=1e-4),\n",
    "             metrics = ['acc'])\n",
    "\n",
    "# RMSprop have some advantage over SGD while performing image processing.\n",
    "# lr stands for learning rate of 0.001.\n",
    "# By default, the lr is 0.01.\n",
    "# 'acc' -> accuracy"
   ]
  },
  {
   "cell_type": "code",
   "execution_count": 50,
   "metadata": {},
   "outputs": [
    {
     "name": "stdout",
     "output_type": "stream",
     "text": [
      "Train on 55000 samples, validate on 5000 samples\n",
      "Epoch 1/30\n",
      "55000/55000 [==============================] - 59s 1ms/sample - loss: 0.5699 - acc: 0.8416 - val_loss: 0.2609 - val_acc: 0.9204\n",
      "Epoch 2/30\n",
      "55000/55000 [==============================] - 61s 1ms/sample - loss: 0.1781 - acc: 0.9449 - val_loss: 0.1445 - val_acc: 0.9570\n",
      "Epoch 3/30\n",
      "55000/55000 [==============================] - 60s 1ms/sample - loss: 0.1305 - acc: 0.9599 - val_loss: 0.1241 - val_acc: 0.9606\n",
      "Epoch 4/30\n",
      "55000/55000 [==============================] - 61s 1ms/sample - loss: 0.1057 - acc: 0.9672 - val_loss: 0.0974 - val_acc: 0.9746\n",
      "Epoch 5/30\n",
      "55000/55000 [==============================] - 62s 1ms/sample - loss: 0.0908 - acc: 0.9725 - val_loss: 0.1083 - val_acc: 0.9660\n",
      "Epoch 6/30\n",
      "55000/55000 [==============================] - 60s 1ms/sample - loss: 0.0783 - acc: 0.9760 - val_loss: 0.0741 - val_acc: 0.9784\n",
      "Epoch 7/30\n",
      "55000/55000 [==============================] - 60s 1ms/sample - loss: 0.0704 - acc: 0.9785 - val_loss: 0.0754 - val_acc: 0.9796\n",
      "Epoch 8/30\n",
      "55000/55000 [==============================] - 61s 1ms/sample - loss: 0.0631 - acc: 0.9814 - val_loss: 0.0699 - val_acc: 0.9808\n",
      "Epoch 9/30\n",
      "55000/55000 [==============================] - 60s 1ms/sample - loss: 0.0573 - acc: 0.9821 - val_loss: 0.0818 - val_acc: 0.9772\n",
      "Epoch 10/30\n",
      "55000/55000 [==============================] - 63s 1ms/sample - loss: 0.0519 - acc: 0.9838 - val_loss: 0.0619 - val_acc: 0.9826\n",
      "Epoch 11/30\n",
      "55000/55000 [==============================] - 61s 1ms/sample - loss: 0.0478 - acc: 0.9848 - val_loss: 0.0655 - val_acc: 0.9808\n",
      "Epoch 12/30\n",
      "55000/55000 [==============================] - 61s 1ms/sample - loss: 0.0441 - acc: 0.9864 - val_loss: 0.0607 - val_acc: 0.9830\n",
      "Epoch 13/30\n",
      "55000/55000 [==============================] - 62s 1ms/sample - loss: 0.0404 - acc: 0.9875 - val_loss: 0.0554 - val_acc: 0.9844\n",
      "Epoch 14/30\n",
      "55000/55000 [==============================] - 61s 1ms/sample - loss: 0.0374 - acc: 0.9885 - val_loss: 0.0589 - val_acc: 0.9844\n",
      "Epoch 15/30\n",
      "55000/55000 [==============================] - 61s 1ms/sample - loss: 0.0342 - acc: 0.9895 - val_loss: 0.0568 - val_acc: 0.9846\n",
      "Epoch 16/30\n",
      "55000/55000 [==============================] - 61s 1ms/sample - loss: 0.0323 - acc: 0.9898 - val_loss: 0.0596 - val_acc: 0.9838\n",
      "Epoch 17/30\n",
      "55000/55000 [==============================] - 62s 1ms/sample - loss: 0.0304 - acc: 0.9909 - val_loss: 0.0591 - val_acc: 0.9836\n",
      "Epoch 18/30\n",
      "55000/55000 [==============================] - 61s 1ms/sample - loss: 0.0278 - acc: 0.9911 - val_loss: 0.0535 - val_acc: 0.9850\n",
      "Epoch 19/30\n",
      "55000/55000 [==============================] - 61s 1ms/sample - loss: 0.0264 - acc: 0.9919 - val_loss: 0.0574 - val_acc: 0.9848\n",
      "Epoch 20/30\n",
      "55000/55000 [==============================] - 61s 1ms/sample - loss: 0.0244 - acc: 0.9923 - val_loss: 0.0597 - val_acc: 0.9846\n",
      "Epoch 21/30\n",
      "55000/55000 [==============================] - 62s 1ms/sample - loss: 0.0234 - acc: 0.9925 - val_loss: 0.0549 - val_acc: 0.9860\n",
      "Epoch 22/30\n",
      "55000/55000 [==============================] - 61s 1ms/sample - loss: 0.0210 - acc: 0.9934 - val_loss: 0.0576 - val_acc: 0.9846\n",
      "Epoch 23/30\n",
      "55000/55000 [==============================] - 61s 1ms/sample - loss: 0.0206 - acc: 0.9936 - val_loss: 0.0649 - val_acc: 0.9846\n",
      "Epoch 24/30\n",
      "55000/55000 [==============================] - 60s 1ms/sample - loss: 0.0185 - acc: 0.9939 - val_loss: 0.0580 - val_acc: 0.9856\n",
      "Epoch 25/30\n",
      "55000/55000 [==============================] - 61s 1ms/sample - loss: 0.0176 - acc: 0.9948 - val_loss: 0.0550 - val_acc: 0.9858\n",
      "Epoch 26/30\n",
      "55000/55000 [==============================] - 61s 1ms/sample - loss: 0.0168 - acc: 0.9947 - val_loss: 0.0601 - val_acc: 0.9860\n",
      "Epoch 27/30\n",
      "55000/55000 [==============================] - 61s 1ms/sample - loss: 0.0157 - acc: 0.9953 - val_loss: 0.0560 - val_acc: 0.9858\n",
      "Epoch 28/30\n",
      "55000/55000 [==============================] - 61s 1ms/sample - loss: 0.0146 - acc: 0.9956 - val_loss: 0.0559 - val_acc: 0.9876\n",
      "Epoch 29/30\n",
      "55000/55000 [==============================] - 61s 1ms/sample - loss: 0.0133 - acc: 0.9959 - val_loss: 0.0708 - val_acc: 0.9826\n",
      "Epoch 30/30\n",
      "55000/55000 [==============================] - 61s 1ms/sample - loss: 0.0126 - acc: 0.9966 - val_loss: 0.0601 - val_acc: 0.9880\n"
     ]
    }
   ],
   "source": [
    "# Model fitting\n",
    "\n",
    "model_history = model.fit(x_train, y_train, epochs = 30, batch_size = 32,\n",
    "                         validation_data = (x_valid, y_valid))"
   ]
  },
  {
   "cell_type": "code",
   "execution_count": 51,
   "metadata": {},
   "outputs": [
    {
     "data": {
      "image/png": "[encoded data removed]",
      "text/plain": [
       "<Figure size 576x360 with 1 Axes>"
      ]
     },
     "metadata": {
      "needs_background": "light"
     },
     "output_type": "display_data"
    }
   ],
   "source": [
    "import pandas as pd\n",
    "\n",
    "pd.DataFrame(model_history.history).plot(figsize = (8, 5))\n",
    "plt.grid(True)\n",
    "plt.gca().set_ylim(0, 1)\n",
    "plt.show()"
   ]
  },
  {
   "cell_type": "markdown",
   "metadata": {},
   "source": [
    "### We will evaluate our model"
   ]
  },
  {
   "cell_type": "code",
   "execution_count": 53,
   "metadata": {},
   "outputs": [
    {
     "name": "stdout",
     "output_type": "stream",
     "text": [
      "10000/10000 [==============================] - 3s 272us/sample - loss: 0.0657 - acc: 0.9863\n"
     ]
    }
   ],
   "source": [
    "ev = model.evaluate(x_test_n, y_test)"
   ]
  },
  {
   "cell_type": "code",
   "execution_count": 54,
   "metadata": {},
   "outputs": [
    {
     "data": {
      "text/plain": [
       "[0.06569528349398787, 0.9863]"
      ]
     },
     "execution_count": 54,
     "metadata": {},
     "output_type": "execute_result"
    }
   ],
   "source": [
    "ev"
   ]
  },
  {
   "cell_type": "markdown",
   "metadata": {},
   "source": [
    "We are getting an accuracy of around 98.63% which is pretty good."
   ]
  },
  {
   "cell_type": "markdown",
   "metadata": {},
   "source": [
    "CNN performs better in comparison to a randomly initialized ANN. It converges faster with more accuracy."
   ]
  },
  {
   "cell_type": "code",
   "execution_count": 55,
   "metadata": {},
   "outputs": [],
   "source": [
    "x_new = x_test[:3]"
   ]
  },
  {
   "cell_type": "code",
   "execution_count": 56,
   "metadata": {},
   "outputs": [
    {
     "data": {
      "text/plain": [
       "array([7, 2, 1], dtype=int64)"
      ]
     },
     "execution_count": 56,
     "metadata": {},
     "output_type": "execute_result"
    }
   ],
   "source": [
    "y_pred = model.predict_classes(x_new)\n",
    "y_pred"
   ]
  },
  {
   "cell_type": "code",
   "execution_count": 57,
   "metadata": {},
   "outputs": [
    {
     "data": {
      "text/plain": [
       "array([7, 2, 1], dtype=uint8)"
      ]
     },
     "execution_count": 57,
     "metadata": {},
     "output_type": "execute_result"
    }
   ],
   "source": [
    "y_test[:3]"
   ]
  },
  {
   "cell_type": "code",
   "execution_count": 58,
   "metadata": {},
   "outputs": [
    {
     "name": "stdout",
     "output_type": "stream",
     "text": [
      "AxesImage(54,36;334.8x217.44)\n"
     ]
    },
    {
     "data": {
      "image/png": "[encoded data removed]",
      "text/plain": [
       "<Figure size 432x288 with 1 Axes>"
      ]
     },
     "metadata": {
      "needs_background": "light"
     },
     "output_type": "display_data"
    }
   ],
   "source": [
    "print(plt.imshow(x_test[0].reshape((28, 28))))"
   ]
  },
  {
   "cell_type": "code",
   "execution_count": 59,
   "metadata": {},
   "outputs": [
    {
     "name": "stdout",
     "output_type": "stream",
     "text": [
      "AxesImage(54,36;334.8x217.44)\n"
     ]
    },
    {
     "data": {
      "image/png": "[encoded data removed]",
      "text/plain": [
       "<Figure size 432x288 with 1 Axes>"
      ]
     },
     "metadata": {
      "needs_background": "light"
     },
     "output_type": "display_data"
    }
   ],
   "source": [
    "print(plt.imshow(x_test[1].reshape((28, 28))))"
   ]
  },
  {
   "cell_type": "code",
   "execution_count": 60,
   "metadata": {},
   "outputs": [
    {
     "name": "stdout",
     "output_type": "stream",
     "text": [
      "AxesImage(54,36;334.8x217.44)\n"
     ]
    },
    {
     "data": {
      "image/png": "[encoded data removed]",
      "text/plain": [
       "<Figure size 432x288 with 1 Axes>"
      ]
     },
     "metadata": {
      "needs_background": "light"
     },
     "output_type": "display_data"
    }
   ],
   "source": [
    "print(plt.imshow(x_test[2].reshape((28, 28))))"
   ]
  },
  {
   "cell_type": "code",
   "execution_count": 61,
   "metadata": {},
   "outputs": [],
   "source": [
    "model.save(\"part2.h5\")"
   ]
  },
  {
   "cell_type": "code",
   "execution_count": 62,
   "metadata": {},
   "outputs": [],
   "source": [
    "from tensorflow.keras import backend as k\n",
    "k.clear_session()\n",
    "del model"
   ]
  }
 ],
 "metadata": {
  "kernelspec": {
   "display_name": "Python 3",
   "language": "python",
   "name": "python3"
  },
  "language_info": {
   "codemirror_mode": {
    "name": "ipython",
    "version": 3
   },
   "file_extension": ".py",
   "mimetype": "text/x-python",
   "name": "python",
   "nbconvert_exporter": "python",
   "pygments_lexer": "ipython3",
   "version": "3.7.4"
  }
 },
 "nbformat": 4,
 "nbformat_minor": 2
}
